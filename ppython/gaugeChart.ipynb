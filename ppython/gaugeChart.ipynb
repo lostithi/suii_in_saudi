{
 "cells": [
  {
   "cell_type": "code",
   "execution_count": 101,
   "metadata": {},
   "outputs": [],
   "source": [
    "import matplotlib.pyplot as plt\n",
    "import numpy as np\n",
    "import pandas as pd"
   ]
  },
  {
   "cell_type": "code",
   "execution_count": 102,
   "metadata": {},
   "outputs": [
    {
     "data": {
      "text/html": [
       "<div>\n",
       "<style scoped>\n",
       "    .dataframe tbody tr th:only-of-type {\n",
       "        vertical-align: middle;\n",
       "    }\n",
       "\n",
       "    .dataframe tbody tr th {\n",
       "        vertical-align: top;\n",
       "    }\n",
       "\n",
       "    .dataframe thead th {\n",
       "        text-align: right;\n",
       "    }\n",
       "</style>\n",
       "<table border=\"1\" class=\"dataframe\">\n",
       "  <thead>\n",
       "    <tr style=\"text-align: right;\">\n",
       "      <th></th>\n",
       "      <th>year</th>\n",
       "      <th>countries</th>\n",
       "      <th>sites</th>\n",
       "    </tr>\n",
       "  </thead>\n",
       "  <tbody>\n",
       "    <tr>\n",
       "      <th>0</th>\n",
       "      <td>2004</td>\n",
       "      <td>Sweden</td>\n",
       "      <td>13</td>\n",
       "    </tr>\n",
       "    <tr>\n",
       "      <th>1</th>\n",
       "      <td>2022</td>\n",
       "      <td>Sweden</td>\n",
       "      <td>15</td>\n",
       "    </tr>\n",
       "    <tr>\n",
       "      <th>2</th>\n",
       "      <td>2004</td>\n",
       "      <td>Denmark</td>\n",
       "      <td>4</td>\n",
       "    </tr>\n",
       "    <tr>\n",
       "      <th>3</th>\n",
       "      <td>2022</td>\n",
       "      <td>Denmark</td>\n",
       "      <td>10</td>\n",
       "    </tr>\n",
       "    <tr>\n",
       "      <th>4</th>\n",
       "      <td>2004</td>\n",
       "      <td>Norway</td>\n",
       "      <td>5</td>\n",
       "    </tr>\n",
       "    <tr>\n",
       "      <th>5</th>\n",
       "      <td>2022</td>\n",
       "      <td>Norway</td>\n",
       "      <td>8</td>\n",
       "    </tr>\n",
       "  </tbody>\n",
       "</table>\n",
       "</div>"
      ],
      "text/plain": [
       "   year countries  sites\n",
       "0  2004    Sweden     13\n",
       "1  2022    Sweden     15\n",
       "2  2004   Denmark      4\n",
       "3  2022   Denmark     10\n",
       "4  2004    Norway      5\n",
       "5  2022    Norway      8"
      ]
     },
     "execution_count": 102,
     "metadata": {},
     "output_type": "execute_result"
    }
   ],
   "source": [
    "color_dict = {\"Norway\": \"#2B314D\", \"Denmark\": \"#A54836\", \"Sweden\": \"#5375D4\", }\n",
    "xy_ticklabel_color, grand_totals_color, grid_color, datalabels_color ='#757C85',\"#101628\", \"#C8C9C9\", \"w\"\n",
    "\n",
    "data = {\n",
    "    \"year\": [2004, 2022, 2004, 2022, 2004, 2022],\n",
    "    \"countries\" : [\"Sweden\", \"Sweden\", \"Denmark\", \"Denmark\", \"Norway\", \"Norway\"],\n",
    "    \"sites\": [13,15,4,10,5,8]\n",
    "}\n",
    "\n",
    "df= pd.DataFrame(data)  #df is the dataframe with data now\n",
    "df"
   ]
  },
  {
   "cell_type": "code",
   "execution_count": 103,
   "metadata": {},
   "outputs": [
    {
     "data": {
      "text/html": [
       "<div>\n",
       "<style scoped>\n",
       "    .dataframe tbody tr th:only-of-type {\n",
       "        vertical-align: middle;\n",
       "    }\n",
       "\n",
       "    .dataframe tbody tr th {\n",
       "        vertical-align: top;\n",
       "    }\n",
       "\n",
       "    .dataframe thead th {\n",
       "        text-align: right;\n",
       "    }\n",
       "</style>\n",
       "<table border=\"1\" class=\"dataframe\">\n",
       "  <thead>\n",
       "    <tr style=\"text-align: right;\">\n",
       "      <th></th>\n",
       "      <th>year</th>\n",
       "      <th>countries</th>\n",
       "      <th>sites</th>\n",
       "      <th>year_lbl</th>\n",
       "      <th>color</th>\n",
       "    </tr>\n",
       "  </thead>\n",
       "  <tbody>\n",
       "    <tr>\n",
       "      <th>0</th>\n",
       "      <td>2004</td>\n",
       "      <td>Denmark</td>\n",
       "      <td>4</td>\n",
       "      <td>'04</td>\n",
       "      <td>#A54836</td>\n",
       "    </tr>\n",
       "    <tr>\n",
       "      <th>1</th>\n",
       "      <td>2004</td>\n",
       "      <td>Norway</td>\n",
       "      <td>5</td>\n",
       "      <td>'04</td>\n",
       "      <td>#2B314D</td>\n",
       "    </tr>\n",
       "    <tr>\n",
       "      <th>2</th>\n",
       "      <td>2022</td>\n",
       "      <td>Norway</td>\n",
       "      <td>8</td>\n",
       "      <td>'22</td>\n",
       "      <td>#2B314D</td>\n",
       "    </tr>\n",
       "    <tr>\n",
       "      <th>3</th>\n",
       "      <td>2022</td>\n",
       "      <td>Denmark</td>\n",
       "      <td>10</td>\n",
       "      <td>'22</td>\n",
       "      <td>#A54836</td>\n",
       "    </tr>\n",
       "    <tr>\n",
       "      <th>4</th>\n",
       "      <td>2004</td>\n",
       "      <td>Sweden</td>\n",
       "      <td>13</td>\n",
       "      <td>'04</td>\n",
       "      <td>#5375D4</td>\n",
       "    </tr>\n",
       "    <tr>\n",
       "      <th>5</th>\n",
       "      <td>2022</td>\n",
       "      <td>Sweden</td>\n",
       "      <td>15</td>\n",
       "      <td>'22</td>\n",
       "      <td>#5375D4</td>\n",
       "    </tr>\n",
       "  </tbody>\n",
       "</table>\n",
       "</div>"
      ],
      "text/plain": [
       "   year countries  sites year_lbl    color\n",
       "0  2004   Denmark      4      '04  #A54836\n",
       "1  2004    Norway      5      '04  #2B314D\n",
       "2  2022    Norway      8      '22  #2B314D\n",
       "3  2022   Denmark     10      '22  #A54836\n",
       "4  2004    Sweden     13      '04  #5375D4\n",
       "5  2022    Sweden     15      '22  #5375D4"
      ]
     },
     "execution_count": 103,
     "metadata": {},
     "output_type": "execute_result"
    }
   ],
   "source": [
    "df = df.sort_values([ 'sites'], ascending=True ).reset_index(drop=True)\n",
    "df['year_lbl'] =\"'\"+df['year'].astype(str).str[-2:].astype(str)\n",
    "#map the colors of a dict to a dataframe\n",
    "df['color']= df.countries.map(color_dict)\n",
    "df"
   ]
  },
  {
   "cell_type": "code",
   "execution_count": 104,
   "metadata": {},
   "outputs": [],
   "source": [
    "nr_bars = 20\n",
    "bar_height = 0.5 #height of the bars\n",
    "offset = 2 # offset of the bars"
   ]
  },
  {
   "cell_type": "code",
   "execution_count": 105,
   "metadata": {},
   "outputs": [],
   "source": [
    "#divide 180 degrees into 20 bars\n",
    "rad_x = np.deg2rad(np.linspace(0,180,nr_bars, endpoint= False))\n",
    "#add the angle for each site to the dataframe\n",
    "df['angles'] = rad_x[df.sites]\n",
    "#get the radius for each circle\n",
    "r= [2+bar_height/3,2+bar_height/3*2,2+bar_height/3*2,2+bar_height/3,2+bar_height/2,2+bar_height/2]\n",
    "#add the radius to the dataframe\n",
    "df['radius'] = r"
   ]
  },
  {
   "cell_type": "code",
   "execution_count": 106,
   "metadata": {},
   "outputs": [],
   "source": [
    "year_labels= df.year_lbl\n",
    "colors = df.color\n",
    "legend = df.countries\n",
    "theta = df.angles\n",
    "radius = df.radius\n",
    "sites = df.sites\n",
    "\n",
    "#arch for the arrows\n",
    "connectionstyle = [\"arc3,rad=0.24\",\"arc3,rad=0.15\",\"arc3,rad=0.15\"]\n",
    "\n",
    "#slice angles and radius by country\n",
    "angles_bycountry = df.groupby('countries')['angles'].apply(lambda x: x.values) \n",
    "r_bycountry = df.groupby('countries')['radius'].apply(lambda x: x.values)\n",
    "\n",
    "#add axis labels\n",
    "axis_labels = list(range(0,25,5))\n",
    "theta_labels = np.array([rad_x[i] for i in list(range(0,20,5))])\n",
    "label_pos = np.append(theta_labels,np.pi) #add the last coordinate of the label"
   ]
  },
  {
   "cell_type": "code",
   "execution_count": 107,
   "metadata": {},
   "outputs": [
    {
     "data": {
      "image/png": "[encoded data removed]",
      "text/plain": [
       "<Figure size 1000x700 with 1 Axes>"
      ]
     },
     "metadata": {},
     "output_type": "display_data"
    }
   ],
   "source": [
    "fig, ax = plt.subplots(figsize=(10, 7), subplot_kw=dict(polar=True))\n",
    "\n",
    "ax.set_theta_zero_location(\"W\")  # theta=0 at the top\n",
    "ax.set_theta_direction(-1)  # theta increasing clockwise\n",
    "ax.set_thetamax(180) # stop at 180 degrees\n",
    "\n",
    "\n",
    "ax.bar(rad_x, width=np.deg2rad(180/nr_bars), height=bar_height,  bottom=offset,\n",
    "       linewidth=1, edgecolor=\"white\",color=grid_color,\n",
    "        align=\"edge\")\n",
    "ax.scatter(theta, radius, color=colors, s = 305, zorder=2)\n",
    "\n",
    "#add arcs\n",
    "for angle,r, color,connectionstyle in zip(angles_bycountry,r_bycountry, colors.unique(),connectionstyle):\n",
    "        ax.annotate(\"\", xy=(angle[0],r[0]), xytext=(angle[1],r[1]), zorder = 1,\n",
    "                arrowprops=dict(arrowstyle='-', connectionstyle = connectionstyle, \n",
    "                        color = color, alpha= 0.5, linewidth=2, linestyle='-', antialiased=True))\n",
    "\n",
    "  \n",
    "#bubble data labels\n",
    "for t, r,lb in zip(theta, radius, year_labels):\n",
    "    ax.annotate(lb, xy=(t,r), color =\"w\", size= 8, weight= \"bold\", ha=\"center\", va=\"center\")\n",
    "\n",
    "# axis labels\n",
    "for loc, val, r in zip( label_pos, axis_labels, radius):\n",
    "    ax.annotate(val, xy=(loc, offset-0.2), size= 12, va= 'center', ha= 'center', color=xy_ticklabel_color)\n",
    "    \n",
    "ax.text(0.5, 0, \"World Heritage \\nSites\", size=12, ha=\"center\", va=\"center\")\n",
    "\n",
    "ax.set_axis_off()"
   ]
  }
 ],
 "metadata": {
  "kernelspec": {
   "display_name": "Python 3",
   "language": "python",
   "name": "python3"
  },
  "language_info": {
   "codemirror_mode": {
    "name": "ipython",
    "version": 3
   },
   "file_extension": ".py",
   "mimetype": "text/x-python",
   "name": "python",
   "nbconvert_exporter": "python",
   "pygments_lexer": "ipython3",
   "version": "3.13.2"
  },
  "orig_nbformat": 4
 },
 "nbformat": 4,
 "nbformat_minor": 2
}
